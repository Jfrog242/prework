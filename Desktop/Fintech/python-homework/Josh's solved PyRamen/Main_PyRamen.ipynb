{
 "cells": [
  {
   "cell_type": "code",
   "execution_count": null,
   "metadata": {},
   "outputs": [],
   "source": [
    "# Import Dependencies\n",
    "from pathlib import Path\n",
    "import csv\n",
    "\n",
    "# Declare Path Variables\n",
    "menu_file = Path('Resources/menu_data.csv')\n",
    "sales_file = Path('Resources/sales_data.csv')\n",
    "report_file = Path('output.txt')\n",
    "\n",
    "# Declare Lists & Dictionary\n",
    "menu = []\n",
    "sales = []\n",
    "report = {}\n",
    "\n",
    "# Read Data From csv File\n",
    "with open(menu_file, \"r\") as file:\n",
    "    csvreader = csv.reader(file, delimiter = ',')\n",
    "    header = next(csvreader)\n",
    "    for row in csvreader:\n",
    "        menu.append(row)\n",
    "        \n",
    "with open(sales_file, \"r\") as file:\n",
    "    csvreader = csv.reader(file, delimiter = ',')\n",
    "    header = next(csvreader)\n",
    "    for row in csvreader:\n",
    "        sales.append(row)\n",
    "\n",
    "#Build Dictionary\n",
    "for row in menu:\n",
    "    if row[1] == \"entree\":\n",
    "        report.update({row[0]:{\n",
    "                       \"01-count\": 0, \n",
    "                       \"02-revenue\": 0, \n",
    "                       \"03-cogs\": 0, \n",
    "                       \"04-profit\": 0, \n",
    "                      }})\n",
    "\n",
    "for row in sales:\n",
    "    quantity = int(row[3])\n",
    "    menu_item = row[4]\n",
    "    for line in menu:\n",
    "        item = line[0]\n",
    "        price = float(line[3])\n",
    "        cost = float(line[4])\n",
    "        if item == menu_item:\n",
    "            report[menu_item][\"01-count\"] += quantity\n",
    "            report[menu_item][\"02-revenue\"] += price * quantity\n",
    "            report[menu_item][\"03-cogs\"] += cost * quantity\n",
    "            report[menu_item][\"04-profit\"] += (price - cost) * quantity\n",
    "\n",
    "# Display & Export Report\n",
    "open_report = open(report_file, \"w\")\n",
    "for k, v in sorted(report.items()):\n",
    "    open_report.write(f\"{k} {v}\\n\")\n",
    "    print(k, v)\n",
    "open_report.close()"
   ]
  }
 ],
 "metadata": {
  "kernelspec": {
   "display_name": "Python 3",
   "language": "python",
   "name": "python3"
  },
  "language_info": {
   "codemirror_mode": {
    "name": "ipython",
    "version": 3
   },
   "file_extension": ".py",
   "mimetype": "text/x-python",
   "name": "python",
   "nbconvert_exporter": "python",
   "pygments_lexer": "ipython3",
   "version": "3.8.5"
  }
 },
 "nbformat": 4,
 "nbformat_minor": 4
}
